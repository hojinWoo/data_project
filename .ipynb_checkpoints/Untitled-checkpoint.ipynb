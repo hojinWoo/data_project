{
 "cells": [
  {
   "cell_type": "code",
   "execution_count": 189,
   "id": "cb9d5d56",
   "metadata": {},
   "outputs": [],
   "source": [
    "# %pip install requests\n",
    "import requests\n",
    "from bs4 import BeautifulSoup\n",
    "# json 객체\n",
    "import json\n",
    "# 정규표현식\n",
    "import re"
   ]
  },
  {
   "cell_type": "code",
   "execution_count": null,
   "id": "07db3269",
   "metadata": {},
   "outputs": [],
   "source": [
    "# - 11번가: https://search.11st.co.kr/Search.tmall?kwd=%25EC%2597%2598%25EB%259D%25BC%25EA%25B3%25A0\n",
    "#     데이터는 담겨있지만, html element가 아니라 script에 담겨있음. \n",
    "#     데이터를 꺼내기 위해선 지금 당장은 많이 어려울 수 있기 때문에 후순위로 미룰 것\n",
    "#     - 크롤링 하는 방법은 상품 정보가 담겨있는 스크립트 태그 가져온 뒤, \n",
    "#     정규표현식으로 스크립트 내 상품이 담겨있는 {  }부분만 가져온 뒤 문자열을 json으로 파싱하여 파이썬 객체로 변환\n",
    "# - 무신사: https://www.musinsa.com/search/musinsa/integration?type=&q=%EC%97%98%EB%9D%BC%EA%B3%A0\n",
    "#     쉬움.\n",
    "# - 쿠팡: https://www.coupang.com/np/search?component=&q=%EC%97%98%EB%9D%BC%EA%B3%A0&channel=user\n",
    "#     쉬움. 다만 쿠팡의 검색결과는 secret mode로 들어가서 나온 결과값이라고 보면 됨. 결과가 내가 크롬에서 보는것과 다를 수 있음\n",
    "# - 네이버쇼핑: https://search.shopping.naver.com/search/all?query=%EC%97%98%EB%9D%BC%EA%B3%A0\n",
    "#     쉬움\n",
    "# - 엘라고 사이트(네이버): https://smartstore.naver.com/elago/best?cp=1\n",
    "#     쉬움\n",
    "# - 아마존: https://www.amazon.com/s?k=elago&crid=11LZA7CVJHIDH&sprefix=elago%2Caps%2C271&ref=nb_sb_noss_1\n",
    "#     어려움, 쿠키값을 넣어야함. 궁금하면 가르쳐드릴 순 있는데 \n",
    "#     쿠키를 사용한 접속은 쿠키가 만료되는 순간 더이상 쓸 수가 없어 수동으로 쿠키값을 최신화해줘야함"
   ]
  },
  {
   "cell_type": "code",
   "execution_count": 190,
   "id": "e689eeb9",
   "metadata": {},
   "outputs": [],
   "source": [
    "# 11번가 크롤링\n",
    "headers = {'Content-Type': 'application/json; charset=utf-8'}\n",
    "\n",
    "URL11 = 'https://search.11st.co.kr/Search.tmall?kwd=%25EC%2597%2598%25EB%259D%25BC%25EA%25B3%25A0'\n",
    "response11 = requests.get(URL11, headers=headers)\n",
    "# print(response11.text)\n",
    "soup = BeautifulSoup(response11.text, \"html.parser\")\n",
    "# print(type(soup))\n",
    "result11 = soup.find('div', class_='search_content react_app')\n",
    "# print (type(result11))"
   ]
  },
  {
   "cell_type": "code",
   "execution_count": 192,
   "id": "89ba2cd1",
   "metadata": {},
   "outputs": [],
   "source": [
    "result11_2 = result11.find('script')\n",
    "# print(result11_2.text)\n",
    "# result11_3 = json.loads(result11_2.text)\n",
    "# print(type(result11_3))\n",
    "# print(result11_3)"
   ]
  },
  {
   "cell_type": "code",
   "execution_count": 193,
   "id": "6ae8646c",
   "metadata": {},
   "outputs": [],
   "source": [
    "patterns = \"\\{.*\\}\"\n",
    "result11_3 = re.findall(patterns, result11_2.text) # findall : list 형태로 변환\n",
    "# type(result11_3)"
   ]
  },
  {
   "cell_type": "code",
   "execution_count": 246,
   "id": "7ac09629",
   "metadata": {},
   "outputs": [],
   "source": [
    "result11_4_dict = {}\n",
    "result11_4_dict['count'] = []\n",
    "for r in result11_3:\n",
    "    if r:\n",
    "#         print(r[1:11])\n",
    "        if r[1:9] =='\"count\":':\n",
    "            try:\n",
    "                count = int(float(r[9]))\n",
    "                if count != 0:\n",
    "                    # 상품 개수가 있는 경우\n",
    "#                     print (type(json.loads(r)))\n",
    "                    result11_4_dict['count'].append(json.loads(r))\n",
    "            except:\n",
    "                continue\n",
    "# print (result11_4_dict)"
   ]
  },
  {
   "cell_type": "code",
   "execution_count": 243,
   "id": "34a0819b",
   "metadata": {},
   "outputs": [],
   "source": [
    "result11_4_list = []\n",
    "for r in result11_3:\n",
    "    if r:\n",
    "#         print(r[1:11])\n",
    "        if r[1:9] =='\"count\":':\n",
    "            try:\n",
    "                count = int(float(r[9]))\n",
    "                if count != 0:\n",
    "                    # 상품 개수가 있는 경우\n",
    "#                     print (type(json.loads(r)))\n",
    "                    result11_4_list.append(json.loads(r))\n",
    "            except:\n",
    "                continue\n",
    "# print (result11_4_list)"
   ]
  },
  {
   "cell_type": "code",
   "execution_count": 244,
   "id": "75e3cb5a",
   "metadata": {},
   "outputs": [],
   "source": [
    "# print(result11_4_list[0])\n",
    "list_popular = []\n",
    "# print(result11_4_list[0]['items'][0]['prdNm'])\n",
    "for value in result11_4_list:\n",
    "    item_lists = value['items']\n",
    "    for products in item_lists:\n",
    "        try:\n",
    "          list_popular.append(products['prdNm'])  \n",
    "        except:\n",
    "            continue\n",
    "# print(list_popular)"
   ]
  },
  {
   "cell_type": "code",
   "execution_count": null,
   "id": "57baa0db",
   "metadata": {},
   "outputs": [],
   "source": []
  }
 ],
 "metadata": {
  "kernelspec": {
   "display_name": "Python 3 (ipykernel)",
   "language": "python",
   "name": "python3"
  },
  "language_info": {
   "codemirror_mode": {
    "name": "ipython",
    "version": 3
   },
   "file_extension": ".py",
   "mimetype": "text/x-python",
   "name": "python",
   "nbconvert_exporter": "python",
   "pygments_lexer": "ipython3",
   "version": "3.10.9"
  }
 },
 "nbformat": 4,
 "nbformat_minor": 5
}
