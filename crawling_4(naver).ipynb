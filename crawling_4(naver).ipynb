{
 "cells": [
  {
   "cell_type": "code",
   "execution_count": 1,
   "metadata": {},
   "outputs": [],
   "source": [
    "# %pip install requests\n",
    "import requests\n",
    "# %pip install beautifulsoup4\n",
    "from bs4 import BeautifulSoup\n",
    "from urllib.request import urlopen\n",
    "import ssl  # https 인증\n",
    "import json # json 객체\n",
    "import re   # 정규표현식\n",
    "# %pip install matplotlib\n",
    "# %pip install pandas\n",
    "import matplotlib.pyplot as plt # 시각화\n",
    "import numpy as np\n",
    "import pandas as pd"
   ]
  },
  {
   "cell_type": "code",
   "execution_count": null,
   "metadata": {},
   "outputs": [],
   "source": [
    "# - 네이버쇼핑: https://search.shopping.naver.com/search/all?query=%EC%97%98%EB%9D%BC%EA%B3%A0\n",
    "#     쉬움"
   ]
  },
  {
   "cell_type": "code",
   "execution_count": 2,
   "metadata": {},
   "outputs": [
    {
     "name": "stdout",
     "output_type": "stream",
     "text": [
      "<class 'bs4.BeautifulSoup'>\n"
     ]
    }
   ],
   "source": [
    "# 네이버쇼핑 크롤링\n",
    "# headers = {'Content-Type': 'application/json; charset=utf-8'}\n",
    "# URL44 = 'https://search.shopping.naver.com/search/all?query=%EC%97%98%EB%9D%BC%EA%B3%A0'\n",
    "context = ssl._create_unverified_context()\n",
    "URL44 = urlopen('https://search.shopping.naver.com/search/all?query=%EC%97%98%EB%9D%BC%EA%B3%A0', context=context)\n",
    "\n",
    "soup = BeautifulSoup(URL44.read(), \"html.parser\")\n",
    "print(type(soup))"
   ]
  },
  {
   "cell_type": "code",
   "execution_count": null,
   "metadata": {},
   "outputs": [],
   "source": [
    "response44 = soup.find('ul', id = 'searchList')"
   ]
  },
  {
   "cell_type": "code",
   "execution_count": null,
   "metadata": {},
   "outputs": [],
   "source": []
  },
  {
   "cell_type": "code",
   "execution_count": null,
   "metadata": {},
   "outputs": [],
   "source": []
  }
 ],
 "metadata": {
  "kernelspec": {
   "display_name": "Python 3",
   "language": "python",
   "name": "python3"
  },
  "language_info": {
   "codemirror_mode": {
    "name": "ipython",
    "version": 3
   },
   "file_extension": ".py",
   "mimetype": "text/x-python",
   "name": "python",
   "nbconvert_exporter": "python",
   "pygments_lexer": "ipython3",
   "version": "3.11.1"
  },
  "orig_nbformat": 4,
  "vscode": {
   "interpreter": {
    "hash": "ff4b1fca65a764b45acb559e482afe389d289dd599b9f8c5fd12ff5c2ea46a65"
   }
  }
 },
 "nbformat": 4,
 "nbformat_minor": 2
}
