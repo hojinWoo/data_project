{
 "cells": [
  {
   "cell_type": "code",
   "execution_count": 2,
   "id": "9f554507",
   "metadata": {},
   "outputs": [],
   "source": [
    "# %pip install requests\n",
    "import requests\n",
    "# %pip install beautifulsoup4\n",
    "from bs4 import BeautifulSoup\n",
    "import json # json 객체\n",
    "import re   # 정규표현식\n",
    "# %pip install matplotlib\n",
    "# %pip install pandas\n",
    "import matplotlib.pyplot as plt # 시각화\n",
    "import numpy as np\n",
    "import pandas as pd"
   ]
  },
  {
   "cell_type": "code",
   "execution_count": null,
   "id": "ba5523a3",
   "metadata": {},
   "outputs": [],
   "source": [
    "# - 11번가: https://search.11st.co.kr/Search.tmall?kwd=%25EC%2597%2598%25EB%259D%25BC%25EA%25B3%25A0\n",
    "#     데이터는 담겨있지만, html element가 아니라 script에 담겨있음. \n",
    "#     데이터를 꺼내기 위해선 지금 당장은 많이 어려울 수 있기 때문에 후순위로 미룰 것\n",
    "#     - 크롤링 하는 방법은 상품 정보가 담겨있는 스크립트 태그 가져온 뒤, \n",
    "#     정규표현식으로 스크립트 내 상품이 담겨있는 {  }부분만 가져온 뒤 문자열을 json으로 파싱하여 파이썬 객체로 변환\n",
    "# - 무신사: https://www.musinsa.com/search/musinsa/integration?type=&q=%EC%97%98%EB%9D%BC%EA%B3%A0\n",
    "#     쉬움.\n",
    "# - 쿠팡: https://www.coupang.com/np/search?component=&q=%EC%97%98%EB%9D%BC%EA%B3%A0&channel=user\n",
    "#     쉬움. 다만 쿠팡의 검색결과는 secret mode로 들어가서 나온 결과값이라고 보면 됨. 결과가 내가 크롬에서 보는것과 다를 수 있음\n",
    "# - 네이버쇼핑: https://search.shopping.naver.com/search/all?query=%EC%97%98%EB%9D%BC%EA%B3%A0\n",
    "#     쉬움\n",
    "# - 엘라고 사이트(네이버): https://smartstore.naver.com/elago/best?cp=1\n",
    "#     쉬움\n",
    "# - 아마존: https://www.amazon.com/s?k=elago&crid=11LZA7CVJHIDH&sprefix=elago%2Caps%2C271&ref=nb_sb_noss_1\n",
    "#     어려움, 쿠키값을 넣어야함. 궁금하면 가르쳐드릴 순 있는데 \n",
    "#     쿠키를 사용한 접속은 쿠키가 만료되는 순간 더이상 쓸 수가 없어 수동으로 쿠키값을 최신화해줘야함"
   ]
  },
  {
   "cell_type": "code",
   "execution_count": 3,
   "id": "9bd4c230",
   "metadata": {},
   "outputs": [],
   "source": [
    "# 11번가 크롤링\n",
    "headers = {'Content-Type': 'application/json; charset=utf-8'}\n",
    "\n",
    "URL11 = 'https://search.11st.co.kr/Search.tmall?kwd=%25EC%2597%2598%25EB%259D%25BC%25EA%25B3%25A0'\n",
    "response11 = requests.get(URL11, headers=headers)\n",
    "# print(response11.text)\n",
    "soup = BeautifulSoup(response11.text, \"html.parser\")\n",
    "# print(type(soup))\n",
    "result11 = soup.find('div', class_='search_content react_app')\n",
    "# print (type(result11))"
   ]
  },
  {
   "cell_type": "code",
   "execution_count": 4,
   "id": "93e434c4",
   "metadata": {},
   "outputs": [],
   "source": [
    "result11_2 = result11.find('script')\n",
    "# print(result11_2.text)\n",
    "# result11_3 = json.loads(result11_2.text)\n",
    "# print(type(result11_3))\n",
    "# print(result11_3)"
   ]
  },
  {
   "cell_type": "code",
   "execution_count": 5,
   "id": "018a3327",
   "metadata": {},
   "outputs": [],
   "source": [
    "patterns = \"\\{.*\\}\"\n",
    "result11_3 = re.findall(patterns, result11_2.text) # findall : list 형태로 변환\n",
    "# type(result11_3)"
   ]
  },
  {
   "cell_type": "code",
   "execution_count": 6,
   "id": "6efcdc17",
   "metadata": {},
   "outputs": [],
   "source": [
    "result11_4_dict = {}\n",
    "result11_4_dict['count'] = []\n",
    "for r in result11_3:\n",
    "    if r:\n",
    "#         print(r[1:11])\n",
    "        if r[1:9] =='\"count\":':\n",
    "            try:\n",
    "                count = int(float(r[9]))\n",
    "                if count != 0:\n",
    "                    # 상품 개수가 있는 경우\n",
    "#                     print (type(json.loads(r)))\n",
    "                    result11_4_dict['count'].append(json.loads(r))\n",
    "            except:\n",
    "                continue\n",
    "# print (result11_4_dict)"
   ]
  },
  {
   "cell_type": "code",
   "execution_count": 7,
   "id": "ae389fe3",
   "metadata": {},
   "outputs": [],
   "source": [
    "result11_4_list = []\n",
    "for r in result11_3:\n",
    "    if r:\n",
    "#         print(r[1:11])\n",
    "        if r[1:9] =='\"count\":':\n",
    "            try:\n",
    "                count = int(float(r[9]))\n",
    "                if count != 0:\n",
    "                    # 상품 개수가 있는 경우\n",
    "#                     print (type(json.loads(r)))\n",
    "                    result11_4_list.append(json.loads(r))\n",
    "            except:\n",
    "                continue\n",
    "# print (result11_4_list)"
   ]
  },
  {
   "cell_type": "code",
   "execution_count": 15,
   "id": "f40a5254",
   "metadata": {},
   "outputs": [
    {
     "name": "stdout",
     "output_type": "stream",
     "text": [
      "엘라고 에어팟 프로 아머 케이스, 엘라고 삼성 갤럭시 버즈 2 프로 케이스 (2022) 크리스탈 클리어, [사은품] 엘라고 갤럭시S23 플러스 울트라 케이스 실리콘 (3색상), 엘라고 아이폰14 플러스 프로 프로맥스 케이스 모음, 엘라고 아이폰14 13 프로 미니 프로맥스 케이스 오로라 그라데이션, 엘라고 애플티비 4K 리모컨 케이스 홀더 모음, 엘라고 애플티비4K 레트로 케이스, [사은품] 엘라고 갤럭시S23 플러스 울트라 투명케이스 실리콘 글라이드 필름 모음, [한정판] 엘라고 스타워즈 에디션 에어팟3세대 케이스 -다스베이더, 엘라고 아이폰14 13 12 SE3 갤럭시S23 S22 S21 실리콘 케이스, [사은품] 엘라고 갤럭시S23 울트라 케이스 글라이드 (6색상), [사은품] 엘라고 갤럭시S23 플러스 울트라 투명케이스 하이브리드, [사은품] 엘라고 갤럭시S23 플러스 울트라 케이스 실리콘 (3색상), 엘라고 아이폰14 플러스 프로 프로맥스 케이스 모음, 엘라고 아이폰14 13 프로 미니 프로맥스 케이스 오로라 그라데이션, 엘라고 애플티비 4K 리모컨 케이스 홀더 모음, 엘라고 애플티비4K 레트로 케이스, [한정판] 엘라고 라인프렌즈 애플워치 충전거치대, 엘라고 애플티비4K 리모컨 거치대 홀더, 엘라고 에어팟3세대 철가루방지 스티커 / 18K 금도금 [2세트], [11번가 단독] 엘라고 에어팟프로 오리지널 행+베이직 세트, [사은품] 엘라고 갤럭시S23 플러스 울트라 투명케이스 실리콘 글라이드 필름 모음, [사은품] 엘라고 갤럭시S23 울트라 케이스 글라이드 (6색상), 엘라고 갤럭시S23 플러스 울트라 케이스 실리콘 (3색상), [사은품] 엘라고 갤럭시S23 플러스 울트라 케이스 실리콘 (3색상), [사은품] 엘라고 갤럭시S23 플러스 울트라 투명케이스 하이브리드, 엘라고 아이폰14 13 12 SE3 갤럭시S23 S22 S21 실리콘 케이스, 엘라고 갤럭시S23 플러스 울트라 투명케이스 하이브리드, 엘라고 아이폰13 프로 미니 프로맥스 케이스 모음, 아이폰14 13 갤럭시S23 Z플립4 투명케이스 하이브리드, 엘라고 BEST 모음 아이폰14 에어팟 갤럭시S23 버즈 애플워치 갤럭시워치 애플펜슬, 엘라고 갤럭시버즈2 프로 라이브 케이스 모음, 엘라고 에어팟프로2,1 철가루방지 스티커 / 18K 금도금 [2세트], 엘라고 에어팟프로2 이어팁 스키니 (2세트), 엘라고 에어팟프로2 피치 케이스, [한정판] 엘라고 토이스토리 갤럭시버즈2 프로 라이브 클리어 케이스 -포키, 엘라고 에어팟맥스 클리어 하드케이스, 엘라고 에어팟프로2 실리콘 베이직 케이스 (일체형), 엘라고 에어팟1,2 미니카 케이스, [사은품증정] 엘라고 에어팟3세대 리퀴드 하이브리드 행 케이스, 엘라고 갤럭시버즈2 프로 라이브 클리어 행 케이스, 엘라고 에어팟 케이스 (1,2세대) / 키링 실리콘 고리 가죽 방수, 엘라고 에어팟프로 AW6 베이직 케이스, [사은품증정] 엘라고 에어팟3세대 행 케이스 (일체형), [한정판] 엘라고 스타워즈 에디션 에어팟3세대 케이스 -다스베이더, 엘라고 에어팟프로2 오리지널 행 케이스, 엘라고 에어팟프로2 이어버드 플러스 일체형 커버, 엘라고 에어팟 방수 행 액티브 케이스 / 철가루방지, 엘라고 에어팟프로 듀오 베이직 케이스, 엘라고 에어팟프로2 아이스크림 케이스, [사은품증정] 엘라고 에어팟3세대 리퀴드 하이브리드 베이직 케이스, 엘라고 에어팟3세대 이어팁 스키니 (2세트), 엘라고 에어팟프로2 오리지널 베이직 케이스, [사은품증정] 엘라고 에어팟3세대 클리어 행 케이스 (젤리), 엘라고 에어팟프로2 이어버드 후크+파우치, 맥사이트 엘라고 E6M 인이어 이어셋/Control Talk/케링케이스..., WHATITISNT [WII X ELAGO] 엔젤 에어팟 프로 케이스, elago 에어팟 이어 팁 음질 AirPods 2 1 버드커버 그립 향상 4쌍 대형 소형2, 엘라고 에어팟3세대 AW5 케이스, 엘라고 슬림 행 에어팟 케이스, 엘라고 에어팟프로 AW5 행 빈티지 케이스 + 카라비너 세트, 엘라고 에어팟프로 18K 도금 철가루방지 스티커 2p, elago BT21 실리콘 케이스 쿠키 공식 상품, 엘라고  AirPods 3 케이스 커버 (브라운), elago 복숭아 케이스  (빨간색), elago BT21 실리콘 케이스  KOYA 공식 상품, elago l 라인 프렌즈 실리콘 케이스  (초코), elago BT21 실리콘 케이스. MANG 공식 상품, elago AW5 케이스 AirPods Pro R4 레트로 Apple TV Siri Remote 2nd Generation W5 AirTags, 엘라고 QC 이어버드2 케이스, 엘라고 에어팟프로 AW5 행 빈티지 케이스 카라비너 세트, 엘라고 에어팟프로2 실리콘 케이스, elago AirPods Pro 호환 케이스 정품 가죽 카라비너 심플디자인 추락방지 커버 보호 에어팟 프로 MWP22J, 엘라고 에어팟 철가루방지 스티커 / 18k 금도금 [2세트], [사은품증정] 엘라고 에어팟3세대 피치 케이스, [한정판] 엘라고 정품 디즈니 에어팟프로 썸썸 케이스, 엘라고 에어팟프로 케이스 키링/실리콘/슬림/가죽/투명, 엘라고 갤럭시 버즈2 프로 라이브 실리콘 베이직 케이스, [사은품증정] 엘라고 에어팟3세대 AW5 행 케이스, 엘라고 에어팟프로 행 케이스 (일체형), 엘라고 에어팟프로2 클리어 행 케이스 (젤리) (7색상), 엘라고 아이폰 에어팟프로2,1/에어팟3 애플워치 3IN1 미니 충전스탠드, 엘라고 GB5 갤럭시버즈2 프로 라이브 실리콘 케이스, 엘라고 에어팟프로 리퀴드 하이브리드 행 케이스, 엘라고 에어팟 이어후크 PLUS (1/2세대), 엘라고 에어팟프로2 EDC 스트랩 케이스, [한정판] 엘라고 스타워즈 에디션 에어팟3세대 케이스 -스톰트루퍼, [사은품증정] 엘라고 에어팟3세대 플로피 디스크 케이스 (2색상), 엘라고 갤럭시버즈2 프로 라이브 아머 행 케이스, [사은품증정] 엘라고 에어팟3세대 아이스크림 케이스, 엘라고 에어팟 이어팁 스키니 [2세트], 엘라고 에어팟프로2 클리어 라운드 스트랩 케이스 (젤리) (7색상), 엘라고 에어팟프로2,1 방수 행 케이스, 엘라고 에어팟프로2,1 천연가죽 케이스, 엘라고 에어팟프로 베이직 케이스 (일체형), 엘라고 에어팟 듀오 행 케이스 (1/2세대), 엘라고 에어팟프로2 실리콘 행 케이스 (일체형), 엘라고 에어팟프로 AW5 행 케이스, [한정판] 엘라고 BT21 갤럭시버즈2 프로 라이브 클리어 케이스, [사은품] 엘라고 갤럭시S23 플러스 울트라 투명케이스 실리콘 글라이드 필름 모음, [한정판] 엘라고 스타워즈 에디션 에어팟3세대 케이스 -다스베이더, 엘라고 아이폰14 13 12 SE3 갤럭시S23 S22 S21 실리콘 케이스\n"
     ]
    }
   ],
   "source": [
    "# print(result11_4_list[0])\n",
    "list_popular = []\n",
    "str_popular = \"\"\n",
    "# print(result11_4_list[0]['items'][0]['prdNm'])\n",
    "for value in result11_4_list:\n",
    "    item_lists = value['items']\n",
    "    for products in item_lists:\n",
    "        try:\n",
    "            # print(products['prdNm'])\n",
    "            list_popular.append(products['prdNm'])  \n",
    "            if str_popular == \"\":\n",
    "                str_popular = products['prdNm']\n",
    "            else:\n",
    "                str_popular = str_popular + \", \" + products['prdNm']\n",
    "        except:\n",
    "            continue\n",
    "# print(list_popular)\n",
    "print(str_popular)\n"
   ]
  },
  {
   "cell_type": "code",
   "execution_count": null,
   "id": "9329d134",
   "metadata": {},
   "outputs": [],
   "source": []
  }
 ],
 "metadata": {
  "kernelspec": {
   "display_name": "Python 3",
   "language": "python",
   "name": "python3"
  },
  "language_info": {
   "codemirror_mode": {
    "name": "ipython",
    "version": 3
   },
   "file_extension": ".py",
   "mimetype": "text/x-python",
   "name": "python",
   "nbconvert_exporter": "python",
   "pygments_lexer": "ipython3",
   "version": "3.11.1"
  },
  "vscode": {
   "interpreter": {
    "hash": "ff4b1fca65a764b45acb559e482afe389d289dd599b9f8c5fd12ff5c2ea46a65"
   }
  }
 },
 "nbformat": 4,
 "nbformat_minor": 5
}
