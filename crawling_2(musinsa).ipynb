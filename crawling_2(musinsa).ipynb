{
 "cells": [
  {
   "cell_type": "code",
   "execution_count": 56,
   "metadata": {},
   "outputs": [
    {
     "ename": "ModuleNotFoundError",
     "evalue": "No module named 'wordcloud'",
     "output_type": "error",
     "traceback": [
      "\u001b[1;31m---------------------------------------------------------------------------\u001b[0m",
      "\u001b[1;31mModuleNotFoundError\u001b[0m                       Traceback (most recent call last)",
      "Cell \u001b[1;32mIn[56], line 13\u001b[0m\n\u001b[0;32m     11\u001b[0m \u001b[39mimport\u001b[39;00m \u001b[39mpandas\u001b[39;00m \u001b[39mas\u001b[39;00m \u001b[39mpd\u001b[39;00m\n\u001b[0;32m     12\u001b[0m \u001b[39m# %pip install wordcloud\u001b[39;00m\n\u001b[1;32m---> 13\u001b[0m \u001b[39mfrom\u001b[39;00m \u001b[39mwordcloud\u001b[39;00m \u001b[39mimport\u001b[39;00m WordCloud \u001b[39m# 워드클라우드\u001b[39;00m\n",
      "\u001b[1;31mModuleNotFoundError\u001b[0m: No module named 'wordcloud'"
     ]
    }
   ],
   "source": [
    "# %pip install requests\n",
    "import requests\n",
    "# %pip install beautifulsoup4\n",
    "from bs4 import BeautifulSoup\n",
    "import json # json 객체\n",
    "import re   # 정규표현식\n",
    "# %pip install matplotlib\n",
    "# %pip install pandas\n",
    "import matplotlib.pyplot as plt # 시각화\n",
    "import numpy as np\n",
    "import pandas as pd\n",
    "# %pip install wordcloud\n",
    "# from wordcloud import WordCloud # 워드클라우드"
   ]
  },
  {
   "cell_type": "code",
   "execution_count": null,
   "metadata": {},
   "outputs": [],
   "source": [
    "# - 무신사: https://www.musinsa.com/search/musinsa/integration?type=&q=%EC%97%98%EB%9D%BC%EA%B3%A0\n",
    "#     쉬움.\n",
    "# - 쿠팡: https://www.coupang.com/np/search?component=&q=%EC%97%98%EB%9D%BC%EA%B3%A0&channel=user\n",
    "#     쉬움. 다만 쿠팡의 검색결과는 secret mode로 들어가서 나온 결과값이라고 보면 됨. 결과가 내가 크롬에서 보는것과 다를 수 있음\n",
    "# - 네이버쇼핑: https://search.shopping.naver.com/search/all?query=%EC%97%98%EB%9D%BC%EA%B3%A0\n",
    "#     쉬움\n",
    "# - 엘라고 사이트(네이버): https://smartstore.naver.com/elago/best?cp=1\n",
    "#     쉬움\n",
    "# - 아마존: https://www.amazon.com/s?k=elago&crid=11LZA7CVJHIDH&sprefix=elago%2Caps%2C271&ref=nb_sb_noss_1\n",
    "#     어려움, 쿠키값을 넣어야함. 궁금하면 가르쳐드릴 순 있는데 \n",
    "#     쿠키를 사용한 접속은 쿠키가 만료되는 순간 더이상 쓸 수가 없어 수동으로 쿠키값을 최신화해줘야함"
   ]
  },
  {
   "cell_type": "code",
   "execution_count": 50,
   "metadata": {},
   "outputs": [],
   "source": [
    "# 무신사 크롤링\n",
    "headers = {'Content-Type': 'application/json; charset=utf-8'}\n",
    "\n",
    "# URL22 = 'https://www.musinsa.com/search/musinsa/integration?type=&q=%EC%97%98%EB%9D%BC%EA%B3%A0'\n",
    "URL22 = 'https://www.musinsa.com/search/musinsa/goods?q=%EC%97%98%EB%9D%BC%EA%B3%A0&list_kind=small&sortCode=pop&sub_sort=&page=1&display_cnt=0&saleGoods=&includeSoldOut=&setupGoods=&popular=&category1DepthCode=&category2DepthCodes=&category3DepthCodes=&selectedFilters=&category1DepthName=&category2DepthName=&brandIds=&price=&colorCodes=&contentType=&styleTypes=&includeKeywords=&excludeKeywords=&originalYn=N&tags=&campaignId=&serviceType=&eventType=&type=&season=&measure=&openFilterLayout=N&selectedOrderMeasure=&shoeSizeOption=&groupSale=&d_cat_cd=&attribute='\n",
    "\n",
    "response22 = requests.get(URL22, headers=headers)\n",
    "# print(response22.text)\n",
    "soup = BeautifulSoup(response22.text, \"html.parser\")\n",
    "# print(type(soup))\n",
    "result22 = soup.find('ul', id = 'searchList')\n",
    "# print(result11)\n",
    "# print (type(result22))\n",
    "# result22_2 = result22.find('div', class_=\"article_info\")\n",
    "# print (result22_2)\n",
    "# result22_3 = result22_2.find('p', class_=\"list_info\")\n",
    "# print(result22_3)\n",
    "# result22_4 = result22_3.find('a')\n",
    "# print(result22_4.attrs['data-bh-content-nm'])"
   ]
  },
  {
   "cell_type": "code",
   "execution_count": 51,
   "metadata": {},
   "outputs": [
    {
     "name": "stdout",
     "output_type": "stream",
     "text": [
      "['에어팟3세대 리퀴드 하이브리드 행 케이스', '아이폰14 13 플러스 프로 프로맥스 케이스 어반 클리어', '에어팟프로2,1 철가루방지 스티커 [2세트]', '아이폰14 13 12 SE3 프로 프로맥스 미니 케이스 클리어', '에어팟 철가루방지 스티커 [2세트]', '에어팟프로 리퀴드 하이브리드 행 케이스', '에어팟12 미니카 케이스', '에어팟프로2 실리콘 행 케이스 (일체형)', '에어팟프로2 AW5 스트랩 케이스 (3색상)', '에어팟프로2 EDC 스트랩 케이스', '에어팟프로 AW6 베이직 케이스', '에어팟프로2 리퀴드 하이브리드 행 케이스 (6색상)', '에어팟프로 슬림 베이직 케이스', '에어팟프로 클리어 행 케이스 (젤리)', '에어팟3세대 클리어 행 케이스 (젤리)', '에어팟프로2 클리어 행 케이스 (젤리) (7색상)', '에어팟3세대 리퀴드 하이브리드 베이직 케이스', '에어팟 실리콘 케이스 (1/2세대)', '에어팟3세대 플로피 디스크 케이스 (2색상)', '에어팟프로 아머 케이스']\n"
     ]
    }
   ],
   "source": [
    "result11_2 = result22.find_all('div', class_=\"article_info\")\n",
    "# print(result11_2)\n",
    "list_popular = []\n",
    "for result in result11_2:\n",
    "    p_tag = result.find('p', class_=\"list_info\")\n",
    "    a_tag = p_tag.find('a')\n",
    "    list_popular.append(a_tag.attrs['data-bh-content-nm'])\n",
    "    # print (a_tag.attrs['data-bh-content-nm'])\n",
    "print (list_popular)"
   ]
  },
  {
   "cell_type": "code",
   "execution_count": null,
   "metadata": {},
   "outputs": [],
   "source": []
  },
  {
   "cell_type": "code",
   "execution_count": null,
   "metadata": {},
   "outputs": [],
   "source": []
  },
  {
   "cell_type": "code",
   "execution_count": null,
   "metadata": {},
   "outputs": [],
   "source": []
  },
  {
   "cell_type": "code",
   "execution_count": null,
   "metadata": {},
   "outputs": [],
   "source": []
  }
 ],
 "metadata": {
  "kernelspec": {
   "display_name": "Python 3",
   "language": "python",
   "name": "python3"
  },
  "language_info": {
   "codemirror_mode": {
    "name": "ipython",
    "version": 3
   },
   "file_extension": ".py",
   "mimetype": "text/x-python",
   "name": "python",
   "nbconvert_exporter": "python",
   "pygments_lexer": "ipython3",
   "version": "3.11.1"
  },
  "orig_nbformat": 4,
  "vscode": {
   "interpreter": {
    "hash": "ff4b1fca65a764b45acb559e482afe389d289dd599b9f8c5fd12ff5c2ea46a65"
   }
  }
 },
 "nbformat": 4,
 "nbformat_minor": 2
}
