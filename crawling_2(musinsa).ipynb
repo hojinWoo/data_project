{
 "cells": [
  {
   "cell_type": "code",
   "execution_count": 58,
   "metadata": {},
   "outputs": [],
   "source": [
    "# %pip install requests\n",
    "import requests\n",
    "# %pip install beautifulsoup4\n",
    "from bs4 import BeautifulSoup\n",
    "import json # json 객체\n",
    "import re   # 정규표현식\n",
    "# %pip install matplotlib\n",
    "# %pip install pandas\n",
    "import matplotlib.pyplot as plt # 시각화\n",
    "import numpy as np\n",
    "import pandas as pd\n",
    "# %pip install wordcloud\n",
    "# from wordcloud import WordCloud # 워드클라우드"
   ]
  },
  {
   "cell_type": "code",
   "execution_count": null,
   "metadata": {},
   "outputs": [],
   "source": [
    "# - 무신사: https://www.musinsa.com/search/musinsa/integration?type=&q=%EC%97%98%EB%9D%BC%EA%B3%A0\n",
    "#     쉬움.\n",
    "# - 쿠팡: https://www.coupang.com/np/search?component=&q=%EC%97%98%EB%9D%BC%EA%B3%A0&channel=user\n",
    "#     쉬움. 다만 쿠팡의 검색결과는 secret mode로 들어가서 나온 결과값이라고 보면 됨. 결과가 내가 크롬에서 보는것과 다를 수 있음\n",
    "# - 네이버쇼핑: https://search.shopping.naver.com/search/all?query=%EC%97%98%EB%9D%BC%EA%B3%A0\n",
    "#     쉬움\n",
    "# - 엘라고 사이트(네이버): https://smartstore.naver.com/elago/best?cp=1\n",
    "#     쉬움\n",
    "# - 아마존: https://www.amazon.com/s?k=elago&crid=11LZA7CVJHIDH&sprefix=elago%2Caps%2C271&ref=nb_sb_noss_1\n",
    "#     어려움, 쿠키값을 넣어야함. 궁금하면 가르쳐드릴 순 있는데 \n",
    "#     쿠키를 사용한 접속은 쿠키가 만료되는 순간 더이상 쓸 수가 없어 수동으로 쿠키값을 최신화해줘야함"
   ]
  },
  {
   "cell_type": "code",
   "execution_count": 59,
   "metadata": {},
   "outputs": [],
   "source": [
    "# 무신사 크롤링\n",
    "headers = {'Content-Type': 'application/json; charset=utf-8'}\n",
    "\n",
    "# URL22 = 'https://www.musinsa.com/search/musinsa/integration?type=&q=%EC%97%98%EB%9D%BC%EA%B3%A0'\n",
    "URL22 = 'https://www.musinsa.com/search/musinsa/goods?q=%EC%97%98%EB%9D%BC%EA%B3%A0&list_kind=small&sortCode=pop&sub_sort=&page=1&display_cnt=0&saleGoods=&includeSoldOut=&setupGoods=&popular=&category1DepthCode=&category2DepthCodes=&category3DepthCodes=&selectedFilters=&category1DepthName=&category2DepthName=&brandIds=&price=&colorCodes=&contentType=&styleTypes=&includeKeywords=&excludeKeywords=&originalYn=N&tags=&campaignId=&serviceType=&eventType=&type=&season=&measure=&openFilterLayout=N&selectedOrderMeasure=&shoeSizeOption=&groupSale=&d_cat_cd=&attribute='\n",
    "\n",
    "response22 = requests.get(URL22, headers=headers)\n",
    "# print(response22.text)\n",
    "soup = BeautifulSoup(response22.text, \"html.parser\")\n",
    "# print(type(soup))\n",
    "result22 = soup.find('ul', id = 'searchList')\n",
    "# print(result11)\n",
    "# print (type(result22))\n",
    "# result22_2 = result22.find('div', class_=\"article_info\")\n",
    "# print (result22_2)\n",
    "# result22_3 = result22_2.find('p', class_=\"list_info\")\n",
    "# print(result22_3)\n",
    "# result22_4 = result22_3.find('a')\n",
    "# print(result22_4.attrs['data-bh-content-nm'])"
   ]
  },
  {
   "cell_type": "code",
   "execution_count": 63,
   "metadata": {},
   "outputs": [
    {
     "name": "stdout",
     "output_type": "stream",
     "text": [
      "에어팟3세대 리퀴드 하이브리드 행 케이스, 아이폰14 13 플러스 프로 프로맥스 케이스 어반 클리어, 에어팟프로2,1 철가루방지 스티커 [2세트], 아이폰14 13 12 SE3 프로 프로맥스 미니 케이스 클리어, 에어팟 철가루방지 스티커 [2세트], 에어팟프로 리퀴드 하이브리드 행 케이스, 에어팟12 미니카 케이스, 에어팟프로2 실리콘 행 케이스 (일체형), 에어팟프로2 AW5 스트랩 케이스 (3색상), 에어팟프로2 EDC 스트랩 케이스, 에어팟프로 AW6 베이직 케이스, 에어팟프로2 리퀴드 하이브리드 행 케이스 (6색상), 에어팟프로 슬림 베이직 케이스, 에어팟프로 클리어 행 케이스 (젤리), 에어팟3세대 클리어 행 케이스 (젤리), 에어팟프로2 클리어 행 케이스 (젤리) (7색상), 에어팟3세대 리퀴드 하이브리드 베이직 케이스, 에어팟 실리콘 케이스 (1/2세대), 에어팟3세대 플로피 디스크 케이스 (2색상), 에어팟프로 아머 케이스, 에어팟3 필수템 2종 리퀴드 하이브리드 행 케이스 + 철가루방지스티커(1세트), 에어팟프로2 클리어 베이직 케이스 (젤리), 에어팟3세대 AW3 케이스, 에어팟3세대 EDC 케이스, 아이폰14 13 플러스 프로 프로맥스 케이스 글라이드, 에어팟프로 오리지널 행 케이스, 디즈니 미키 앤 프렌즈 아이폰14프로 프로맥스 케이스 -스티커, 아이폰14 프로 프로맥스 케이스 버클러 (3색상), 아이폰14 13 12 SE3 갤럭시S23 S22 S21 실리콘 케이스, 엘라고 X 뚜까따 콜라보 아이폰14 프로 프로맥스 케이스 -영수증브로 (프릭쉬룸), 아이폰14 13 12 SE3 갤럭시S23 22 Z플립4 3 투명케이스 하이브리드, 아이폰14 13 12 맥세이프 실리콘 케이스, 아이폰14 프로 프로맥스 케이스 듀얼 (2색상), 아이폰13 프로 프로맥스 케이스 어반 클리어, 애플펜슬 2세대 1세대 실리콘 케이스 (8색상), 애플펜슬 2세대 HB 연필 케이스, 아이패드 에어 5세대 4세대 프로 1세대 10.9형 마그네틱 폴리오 케이스 (분리형), 모나미 153 MIX 애플펜슬 2세대 실리콘 케이스+볼펜 세트, 애플펜슬 2세대 실리콘 그립 홀더 (2세트), 아이패드 홈허브 벽걸이 거치대, 아이패드 포켓 파우치 11형 (2색상), 아이폰 에어팟프로2,1/에어팟3 애플워치 3IN1 미니 충전스탠드, W6 애플워치 충전거치대 (1-8세대,SE 공용), 아이패드 마그네틱 스탠드 (4색상), W2 애플워치 충전거치대 (전모델 공용), 노트북 포켓 파우치 (2색상), 디즈니 아이패드 노트북 파우치 -미키마우스, 맥세이프 애플워치 에어팟 3IN1 충전거치대 2세대 (아이폰14,13,12), W9 애플워치 갤럭시워치5 충전거치대 (2색상), 라인프렌즈 애플펜슬 2세대 실리콘 케이스 (3타입), 자석 케이블 매니지먼트 (3개입), 애플워치 아머 일체형 스트랩 밴드 케이스 (4-7세대/SE 공용), 에어팟프로 AW5 행 케이스, 갤럭시S23 울트라 풀커버 TPU 우레탄 액정보호필름 (2매), 아이폰14 13 갤럭시S22 케이스 아머, BT21 미니니 갤럭시S23 플러스 울트라 케이스 -Pink toys, 아이폰14 13 프로 프로맥스 케이스 오로라 그라데이션, 애플워치7 풀커버 강화유리 케이스, 에어팟3세대 이어팁 스키니 (2세트), 맥북 케이스 모음전 (프로/에어/12인치), 아이폰14 플러스 프로 프로맥스 9H 카메라 강화유리필름 (2매), 에어팟프로 이어버드 플러스 일체형 커버 (3세트), 에어팟 이어버드 베이직+파우치 (12공용), 에어팟프로2 이어팁 스키니 (2세트), 에어팟프로 오리지널 베이직 케이스, 에어팟 스키니 베이직 케이스, 갤럭시버즈2 프로 라이브 클리어 행 케이스, 아이폰 갤럭시 강화유리필름 아이폰14 13 12 11 SE3  8 7 6 갤럭시S23 S22, 맥세이프 배터리 팩 투명케이스 하이브리드 (아이폰14,13,12), 에어팟프로2 오리지널 행 케이스, 아이패드 프로 4세대 3세대 2세대 11형 마그네틱 폴리오 케이스 (분리형), 에어팟프로2,1/에어팟3 충전스탠드, GB5 갤럭시버즈2 프로 라이브 케이스, 아이패드 프로 6세대 5세대 4세대 12.9형 마그네틱 폴리오 케이스 (분리형), 아이패드 프로 4세대 3세대 2세대 11형 마그네틱 폴리오 케이스 (2타입), 티타늄 다용도 카라비너, 에어팟프로2 오리지널 베이직 케이스, 에어팟프로 에어태그 스냅샷 케이스, L4 노트북거치대 스탠드, 애플워치 메탈 스트랩 밴드 스테인리스 스틸, 에어팟프로2 실리콘 베이직 케이스 (일체형), 아이폰14 플러스 프로 프로맥스 맥세이프 투명케이스 하이브리드, 엘라고 X 뚜까따 콜라보 아이폰14 13 12 플러스 프로 미니 프로맥스 케이스 -영수증브로 (프릭,쉬룸), ID3 사원증 카드홀더, 에어팟3세대 행 케이스 (일체형), 맥세이프 애플워치 에어팟 3IN1 충전거치대 (아이폰14,13,12), 에어팟프로 수트 케이스, 여행용 캐리어 네임택, 알루미늄 포트폴리오 바인더 북, 아이폰 에어팟 애플워치 3IN1 충전스탠드\n"
     ]
    }
   ],
   "source": [
    "result11_2 = result22.find_all('div', class_=\"article_info\")\n",
    "# print(result11_2)\n",
    "list_popular = []\n",
    "str_popular = \"\"\n",
    "for result in result11_2:\n",
    "    p_tag = result.find('p', class_=\"list_info\")\n",
    "    a_tag = p_tag.find('a')\n",
    "    list_popular.append(a_tag.attrs['data-bh-content-nm'])\n",
    "    if str_popular == \"\":\n",
    "        str_popular = a_tag.attrs['data-bh-content-nm']\n",
    "    else:\n",
    "        str_popular = str_popular + \", \" + a_tag.attrs['data-bh-content-nm']\n",
    "    # print (a_tag.attrs['data-bh-content-nm'])\n",
    "# print (list_popular)\n",
    "print (str_popular)"
   ]
  },
  {
   "cell_type": "code",
   "execution_count": null,
   "metadata": {},
   "outputs": [],
   "source": []
  },
  {
   "cell_type": "code",
   "execution_count": null,
   "metadata": {},
   "outputs": [],
   "source": []
  },
  {
   "cell_type": "code",
   "execution_count": null,
   "metadata": {},
   "outputs": [],
   "source": []
  },
  {
   "cell_type": "code",
   "execution_count": null,
   "metadata": {},
   "outputs": [],
   "source": []
  }
 ],
 "metadata": {
  "kernelspec": {
   "display_name": "Python 3",
   "language": "python",
   "name": "python3"
  },
  "language_info": {
   "codemirror_mode": {
    "name": "ipython",
    "version": 3
   },
   "file_extension": ".py",
   "mimetype": "text/x-python",
   "name": "python",
   "nbconvert_exporter": "python",
   "pygments_lexer": "ipython3",
   "version": "3.11.1"
  },
  "orig_nbformat": 4,
  "vscode": {
   "interpreter": {
    "hash": "ff4b1fca65a764b45acb559e482afe389d289dd599b9f8c5fd12ff5c2ea46a65"
   }
  }
 },
 "nbformat": 4,
 "nbformat_minor": 2
}
